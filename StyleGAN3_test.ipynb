{
  "nbformat": 4,
  "nbformat_minor": 0,
  "metadata": {
    "colab": {
      "provenance": []
    },
    "kernelspec": {
      "name": "python3",
      "display_name": "Python 3"
    },
    "language_info": {
      "name": "python"
    },
    "accelerator": "GPU",
    "gpuClass": "standard"
  },
  "cells": [
    {
      "cell_type": "markdown",
      "source": [
        "# StyleGAN3 お試しコード "
      ],
      "metadata": {
        "id": "ALcwH_5Ge42J"
      }
    },
    {
      "cell_type": "markdown",
      "source": [
        "## 簡単に使ってみる。"
      ],
      "metadata": {
        "id": "1YSxrAgLfFkn"
      }
    },
    {
      "cell_type": "markdown",
      "source": [
        "・NVIDIAの公式リポジトリをクローン"
      ],
      "metadata": {
        "id": "VTlmY9Nofgn2"
      }
    },
    {
      "cell_type": "code",
      "execution_count": null,
      "metadata": {
        "id": "wcKAWfM-e24A"
      },
      "outputs": [],
      "source": [
        "!git clone https://github.com/NVlabs/stylegan3.git\n",
        "%cd stylegan3\n",
        "!pip install Ninja\n",
        "\n",
        "!nvcc -V\n",
        "\n",
        "import torch\n",
        "print(torch.__version__)\n",
        "print(\"CUDA is available:\",torch.cuda.is_available())"
      ]
    },
    {
      "cell_type": "markdown",
      "source": [
        "・NVIDIAが提供している、公式の事前学習済みモデルをダウンロード"
      ],
      "metadata": {
        "id": "no1T1a9duttv"
      }
    },
    {
      "cell_type": "code",
      "source": [
        "import urllib.request\n",
        "\n",
        "#@markdown 事前学習済みモデル\n",
        "model=\"stylegan3-r-afhqv2-512x512\" #@param[\"stylegan3-r-ffhq-1024x1024\", \"stylegan3-t-ffhq-1024x1024\", \"stylegan3-r-ffhqu-1024x1024\", \"stylegan3-t-ffhqu-1024x1024\", \"stylegan3-r-afhqv2-512x512\", \"stylegan3-t-afhqv2-512x512\", \"stylegan3-r-metfaces-1024x1024\", \"stylegan3-t-metfaces-1024x1024\"]\n",
        "url=\"https://api.ngc.nvidia.com/v2/models/nvidia/research/stylegan3/versions/1/files/\"+model+\".pkl\"\n",
        "urllib.request.urlretrieve(url, model)\n",
        "\n",
        "path=\"./\"+model"
      ],
      "metadata": {
        "id": "yS4_bIgmuyKc",
        "cellView": "form"
      },
      "execution_count": null,
      "outputs": []
    },
    {
      "cell_type": "markdown",
      "source": [
        "・モデル読み込み"
      ],
      "metadata": {
        "id": "mL7MB35MWLJy"
      }
    },
    {
      "cell_type": "code",
      "source": [
        "import os\n",
        "import numpy as np\n",
        "from PIL import Image\n",
        "import torch\n",
        "import pickle\n",
        "import matplotlib.pyplot as plt\n",
        "\n",
        "os.makedirs(\"./out/image/\", exist_ok=True)\n",
        "os.makedirs(\"./out/w/\", exist_ok=True)\n",
        "\n",
        "with open(path, 'rb') as f:\n",
        "    G = pickle.load(f)['G_ema'].cuda()#Generator"
      ],
      "metadata": {
        "id": "bNdLLpfdWOOd"
      },
      "execution_count": null,
      "outputs": []
    },
    {
      "cell_type": "markdown",
      "source": [
        "・画像生成"
      ],
      "metadata": {
        "id": "HLH3uWNpgB54"
      }
    },
    {
      "cell_type": "code",
      "source": [
        "#@markdown シード値\n",
        "seed=1500 #@param{type:\"slider\", min:0, max:3000, step:1}\n",
        "\n",
        "z = torch.from_numpy(np.random.RandomState(seed).randn(1, G.z_dim)).cuda()#シード値→潜在ベクトルz\n",
        "#print(z)\n",
        "c = None\n",
        "\n",
        "w = G.mapping(z, c, truncation_psi=0.5, truncation_cutoff=8)#潜在ベクトルz→潜在空間wに拡張\n",
        "#print(w)\n",
        "\n",
        "w_npy = w.to('cpu').detach().numpy().copy()#Tensorをnumpyに変換\n",
        "np.save('./out/w/w_%s'%seed, w_npy)#wを保存\n",
        "w.cuda()\n",
        "\n",
        "#画像生成\n",
        "img = G.synthesis(w, noise_mode='const', force_fp32=True)\n",
        "img = (img.permute(0, 2, 3, 1) * 127.5 + 128).clamp(0, 255).to(torch.uint8)\n",
        "Image.fromarray(img[0].cpu().numpy(), 'RGB').save('./out/image/test_%s.png'%seed)#画像保存\n",
        "\n",
        "#画像表示\n",
        "plt.figure(figsize=(10,10))\n",
        "img = Image.open('./out/image/test_%s.png'%seed)\n",
        "plt.imshow(img)\n",
        "plt.axis('off')"
      ],
      "metadata": {
        "id": "LCIe-ZUAgFEA",
        "cellView": "form"
      },
      "execution_count": null,
      "outputs": []
    },
    {
      "cell_type": "markdown",
      "source": [
        "・潜在空間wの中身を見てみる"
      ],
      "metadata": {
        "id": "adSZXy6IwuYH"
      }
    },
    {
      "cell_type": "code",
      "source": [
        "npw=np.load('./out/w/w_%s.npy'%seed)\n",
        "print(npw)\n",
        "print(\"w size:\",npw.shape)"
      ],
      "metadata": {
        "id": "VYjRQ_lJwzLJ"
      },
      "execution_count": null,
      "outputs": []
    },
    {
      "cell_type": "markdown",
      "source": [
        "## 出力結果のダウンロード"
      ],
      "metadata": {
        "id": "lBMhBE1PYQ20"
      }
    },
    {
      "cell_type": "code",
      "source": [
        "# 出力結果をまとめたフォルダを圧縮\n",
        "!zip -r ./stylegan3_output.zip ./out/\n",
        "\n",
        "# 圧縮したzipのダウンロード\n",
        "from google.colab import files\n",
        "files.download(\"./stylegan3_output.zip\")"
      ],
      "metadata": {
        "id": "gysMWQDoYQhu"
      },
      "execution_count": null,
      "outputs": []
    },
    {
      "cell_type": "markdown",
      "source": [
        "## 参考文献"
      ],
      "metadata": {
        "id": "nKNEibRdefzp"
      }
    },
    {
      "cell_type": "markdown",
      "source": [
        "\n",
        "\n",
        "*   『 Alias-Free Generative Adversarial Networks (StyleGAN3) | NVIDIA 』(URL: https://nvlabs.github.io/stylegan3/ )\n",
        "*   『 NVlabs/stylegan3 | GitHub 』(URL: https://github.com/NVlabs/stylegan3 )\n",
        "\n"
      ],
      "metadata": {
        "id": "Q_Hu4YbCeh2i"
      }
    }
  ]
}